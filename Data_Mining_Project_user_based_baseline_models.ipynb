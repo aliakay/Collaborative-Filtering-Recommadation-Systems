{
  "cells": [
    {
      "cell_type": "code",
      "execution_count": 1,
      "metadata": {
        "id": "PMZ8p-u4vcYM"
      },
      "outputs": [],
      "source": [
        "import io, json\n",
        "import pandas as pd\n",
        "import numpy as np\n",
        "from sklearn.neighbors import NearestNeighbors\n",
        "from sklearn import preprocessing\n",
        "from sklearn.model_selection import train_test_split as sklearn_train_test_split\n",
        "from sklearn.preprocessing import LabelEncoder\n",
        "from scipy.sparse import csr_matrix"
      ]
    },
    {
      "cell_type": "code",
      "source": [
        "!pip install scikit-surprise"
      ],
      "metadata": {
        "colab": {
          "base_uri": "https://localhost:8080/"
        },
        "id": "BjUPKMDEUlCz",
        "outputId": "b1d7b2b1-ba54-4bf9-93da-ec3f22fcb057"
      },
      "execution_count": 2,
      "outputs": [
        {
          "output_type": "stream",
          "name": "stdout",
          "text": [
            "Collecting scikit-surprise\n",
            "  Downloading scikit-surprise-1.1.1.tar.gz (11.8 MB)\n",
            "\u001b[K     |████████████████████████████████| 11.8 MB 5.2 MB/s \n",
            "\u001b[?25hRequirement already satisfied: joblib>=0.11 in /usr/local/lib/python3.7/dist-packages (from scikit-surprise) (1.1.0)\n",
            "Requirement already satisfied: numpy>=1.11.2 in /usr/local/lib/python3.7/dist-packages (from scikit-surprise) (1.19.5)\n",
            "Requirement already satisfied: scipy>=1.0.0 in /usr/local/lib/python3.7/dist-packages (from scikit-surprise) (1.4.1)\n",
            "Requirement already satisfied: six>=1.10.0 in /usr/local/lib/python3.7/dist-packages (from scikit-surprise) (1.15.0)\n",
            "Building wheels for collected packages: scikit-surprise\n",
            "  Building wheel for scikit-surprise (setup.py) ... \u001b[?25l\u001b[?25hdone\n",
            "  Created wheel for scikit-surprise: filename=scikit_surprise-1.1.1-cp37-cp37m-linux_x86_64.whl size=1623285 sha256=482a0e3b272c25b32761a5fc6a4fc0e0db815d7dac3840148be122e23449b764\n",
            "  Stored in directory: /root/.cache/pip/wheels/76/44/74/b498c42be47b2406bd27994e16c5188e337c657025ab400c1c\n",
            "Successfully built scikit-surprise\n",
            "Installing collected packages: scikit-surprise\n",
            "Successfully installed scikit-surprise-1.1.1\n"
          ]
        }
      ]
    },
    {
      "cell_type": "code",
      "source": [
        "from google.colab import drive\n",
        "drive.mount('/content/drive')"
      ],
      "metadata": {
        "colab": {
          "base_uri": "https://localhost:8080/"
        },
        "id": "vswXIzDNU4fi",
        "outputId": "c82678df-88ef-4e5f-b287-fd43741a62cb"
      },
      "execution_count": 5,
      "outputs": [
        {
          "output_type": "stream",
          "name": "stdout",
          "text": [
            "Mounted at /content/drive\n"
          ]
        }
      ]
    },
    {
      "cell_type": "code",
      "execution_count": 6,
      "metadata": {
        "id": "rH6KY0IoupNW"
      },
      "outputs": [],
      "source": [
        "# Import the following modules from the Surprise \n",
        "from surprise import SVD\n",
        "from surprise import SVDpp\n",
        "from surprise import SlopeOne\n",
        "from surprise import NMF\n",
        "from surprise import NormalPredictor\n",
        "from surprise import KNNBaseline\n",
        "from surprise import KNNBasic\n",
        "from surprise import KNNWithMeans\n",
        "from surprise import BaselineOnly\n",
        "from surprise import CoClustering\n",
        "from surprise import Dataset\n",
        "from surprise.model_selection import cross_validate\n",
        "from surprise.model_selection import GridSearchCV\n",
        "from surprise import Reader"
      ]
    },
    {
      "cell_type": "code",
      "execution_count": 7,
      "metadata": {
        "id": "mw16gXOlClOi"
      },
      "outputs": [],
      "source": [
        "df=pd.read_csv(\"/content/drive/MyDrive/Data Mining Data/datamining_data.csv\")\n",
        "df[\"id\"]=df.id.astype(int)"
      ]
    },
    {
      "cell_type": "code",
      "execution_count": 8,
      "metadata": {
        "colab": {
          "base_uri": "https://localhost:8080/",
          "height": 206
        },
        "id": "OhSM2X-SwXvB",
        "outputId": "304191a6-7ebc-4b42-aa53-fd86a1a52970"
      },
      "outputs": [
        {
          "output_type": "execute_result",
          "data": {
            "text/html": [
              "\n",
              "  <div id=\"df-96ddae96-769a-4fb2-a451-f71be9949f79\">\n",
              "    <div class=\"colab-df-container\">\n",
              "      <div>\n",
              "<style scoped>\n",
              "    .dataframe tbody tr th:only-of-type {\n",
              "        vertical-align: middle;\n",
              "    }\n",
              "\n",
              "    .dataframe tbody tr th {\n",
              "        vertical-align: top;\n",
              "    }\n",
              "\n",
              "    .dataframe thead th {\n",
              "        text-align: right;\n",
              "    }\n",
              "</style>\n",
              "<table border=\"1\" class=\"dataframe\">\n",
              "  <thead>\n",
              "    <tr style=\"text-align: right;\">\n",
              "      <th></th>\n",
              "      <th>Unnamed: 0</th>\n",
              "      <th>condition</th>\n",
              "      <th>end</th>\n",
              "      <th>id_x</th>\n",
              "      <th>start</th>\n",
              "      <th>successful</th>\n",
              "      <th>therapy</th>\n",
              "      <th>cured</th>\n",
              "      <th>diagnosed</th>\n",
              "      <th>isCured</th>\n",
              "      <th>isTreated</th>\n",
              "      <th>kind</th>\n",
              "      <th>id</th>\n",
              "    </tr>\n",
              "  </thead>\n",
              "  <tbody>\n",
              "    <tr>\n",
              "      <th>0</th>\n",
              "      <td>0</td>\n",
              "      <td>pc3</td>\n",
              "      <td>20120109</td>\n",
              "      <td>tr1</td>\n",
              "      <td>20111219</td>\n",
              "      <td>86.0</td>\n",
              "      <td>Th49</td>\n",
              "      <td>20120404</td>\n",
              "      <td>20111218</td>\n",
              "      <td>True</td>\n",
              "      <td>True</td>\n",
              "      <td>Cond240</td>\n",
              "      <td>0</td>\n",
              "    </tr>\n",
              "    <tr>\n",
              "      <th>1</th>\n",
              "      <td>1</td>\n",
              "      <td>pc3</td>\n",
              "      <td>20120217</td>\n",
              "      <td>tr2</td>\n",
              "      <td>20120203</td>\n",
              "      <td>10.0</td>\n",
              "      <td>Th45</td>\n",
              "      <td>20120404</td>\n",
              "      <td>20111218</td>\n",
              "      <td>True</td>\n",
              "      <td>True</td>\n",
              "      <td>Cond240</td>\n",
              "      <td>0</td>\n",
              "    </tr>\n",
              "    <tr>\n",
              "      <th>2</th>\n",
              "      <td>2</td>\n",
              "      <td>pc3</td>\n",
              "      <td>20120404</td>\n",
              "      <td>tr3</td>\n",
              "      <td>20120330</td>\n",
              "      <td>100.0</td>\n",
              "      <td>Th45</td>\n",
              "      <td>20120404</td>\n",
              "      <td>20111218</td>\n",
              "      <td>True</td>\n",
              "      <td>True</td>\n",
              "      <td>Cond240</td>\n",
              "      <td>0</td>\n",
              "    </tr>\n",
              "    <tr>\n",
              "      <th>3</th>\n",
              "      <td>3</td>\n",
              "      <td>pc4</td>\n",
              "      <td>19650727</td>\n",
              "      <td>tr4</td>\n",
              "      <td>19650714</td>\n",
              "      <td>100.0</td>\n",
              "      <td>Th17</td>\n",
              "      <td>19650727</td>\n",
              "      <td>19650601</td>\n",
              "      <td>True</td>\n",
              "      <td>True</td>\n",
              "      <td>Cond39</td>\n",
              "      <td>0</td>\n",
              "    </tr>\n",
              "    <tr>\n",
              "      <th>4</th>\n",
              "      <td>4</td>\n",
              "      <td>pc5</td>\n",
              "      <td>19731019</td>\n",
              "      <td>tr5</td>\n",
              "      <td>19730919</td>\n",
              "      <td>100.0</td>\n",
              "      <td>Th47</td>\n",
              "      <td>19731019</td>\n",
              "      <td>19730915</td>\n",
              "      <td>True</td>\n",
              "      <td>True</td>\n",
              "      <td>Cond309</td>\n",
              "      <td>0</td>\n",
              "    </tr>\n",
              "  </tbody>\n",
              "</table>\n",
              "</div>\n",
              "      <button class=\"colab-df-convert\" onclick=\"convertToInteractive('df-96ddae96-769a-4fb2-a451-f71be9949f79')\"\n",
              "              title=\"Convert this dataframe to an interactive table.\"\n",
              "              style=\"display:none;\">\n",
              "        \n",
              "  <svg xmlns=\"http://www.w3.org/2000/svg\" height=\"24px\"viewBox=\"0 0 24 24\"\n",
              "       width=\"24px\">\n",
              "    <path d=\"M0 0h24v24H0V0z\" fill=\"none\"/>\n",
              "    <path d=\"M18.56 5.44l.94 2.06.94-2.06 2.06-.94-2.06-.94-.94-2.06-.94 2.06-2.06.94zm-11 1L8.5 8.5l.94-2.06 2.06-.94-2.06-.94L8.5 2.5l-.94 2.06-2.06.94zm10 10l.94 2.06.94-2.06 2.06-.94-2.06-.94-.94-2.06-.94 2.06-2.06.94z\"/><path d=\"M17.41 7.96l-1.37-1.37c-.4-.4-.92-.59-1.43-.59-.52 0-1.04.2-1.43.59L10.3 9.45l-7.72 7.72c-.78.78-.78 2.05 0 2.83L4 21.41c.39.39.9.59 1.41.59.51 0 1.02-.2 1.41-.59l7.78-7.78 2.81-2.81c.8-.78.8-2.07 0-2.86zM5.41 20L4 18.59l7.72-7.72 1.47 1.35L5.41 20z\"/>\n",
              "  </svg>\n",
              "      </button>\n",
              "      \n",
              "  <style>\n",
              "    .colab-df-container {\n",
              "      display:flex;\n",
              "      flex-wrap:wrap;\n",
              "      gap: 12px;\n",
              "    }\n",
              "\n",
              "    .colab-df-convert {\n",
              "      background-color: #E8F0FE;\n",
              "      border: none;\n",
              "      border-radius: 50%;\n",
              "      cursor: pointer;\n",
              "      display: none;\n",
              "      fill: #1967D2;\n",
              "      height: 32px;\n",
              "      padding: 0 0 0 0;\n",
              "      width: 32px;\n",
              "    }\n",
              "\n",
              "    .colab-df-convert:hover {\n",
              "      background-color: #E2EBFA;\n",
              "      box-shadow: 0px 1px 2px rgba(60, 64, 67, 0.3), 0px 1px 3px 1px rgba(60, 64, 67, 0.15);\n",
              "      fill: #174EA6;\n",
              "    }\n",
              "\n",
              "    [theme=dark] .colab-df-convert {\n",
              "      background-color: #3B4455;\n",
              "      fill: #D2E3FC;\n",
              "    }\n",
              "\n",
              "    [theme=dark] .colab-df-convert:hover {\n",
              "      background-color: #434B5C;\n",
              "      box-shadow: 0px 1px 3px 1px rgba(0, 0, 0, 0.15);\n",
              "      filter: drop-shadow(0px 1px 2px rgba(0, 0, 0, 0.3));\n",
              "      fill: #FFFFFF;\n",
              "    }\n",
              "  </style>\n",
              "\n",
              "      <script>\n",
              "        const buttonEl =\n",
              "          document.querySelector('#df-96ddae96-769a-4fb2-a451-f71be9949f79 button.colab-df-convert');\n",
              "        buttonEl.style.display =\n",
              "          google.colab.kernel.accessAllowed ? 'block' : 'none';\n",
              "\n",
              "        async function convertToInteractive(key) {\n",
              "          const element = document.querySelector('#df-96ddae96-769a-4fb2-a451-f71be9949f79');\n",
              "          const dataTable =\n",
              "            await google.colab.kernel.invokeFunction('convertToInteractive',\n",
              "                                                     [key], {});\n",
              "          if (!dataTable) return;\n",
              "\n",
              "          const docLinkHtml = 'Like what you see? Visit the ' +\n",
              "            '<a target=\"_blank\" href=https://colab.research.google.com/notebooks/data_table.ipynb>data table notebook</a>'\n",
              "            + ' to learn more about interactive tables.';\n",
              "          element.innerHTML = '';\n",
              "          dataTable['output_type'] = 'display_data';\n",
              "          await google.colab.output.renderOutput(dataTable, element);\n",
              "          const docLink = document.createElement('div');\n",
              "          docLink.innerHTML = docLinkHtml;\n",
              "          element.appendChild(docLink);\n",
              "        }\n",
              "      </script>\n",
              "    </div>\n",
              "  </div>\n",
              "  "
            ],
            "text/plain": [
              "   Unnamed: 0 condition       end id_x  ...  isCured  isTreated     kind id\n",
              "0           0       pc3  20120109  tr1  ...     True       True  Cond240  0\n",
              "1           1       pc3  20120217  tr2  ...     True       True  Cond240  0\n",
              "2           2       pc3  20120404  tr3  ...     True       True  Cond240  0\n",
              "3           3       pc4  19650727  tr4  ...     True       True   Cond39  0\n",
              "4           4       pc5  19731019  tr5  ...     True       True  Cond309  0\n",
              "\n",
              "[5 rows x 13 columns]"
            ]
          },
          "metadata": {},
          "execution_count": 8
        }
      ],
      "source": [
        "df.head()"
      ]
    },
    {
      "cell_type": "code",
      "execution_count": 9,
      "metadata": {
        "id": "dvQ1oJSAC223"
      },
      "outputs": [],
      "source": [
        "data_p=df[[\"id\",\"kind\",\"therapy\",\"successful\"]]"
      ]
    },
    {
      "cell_type": "code",
      "execution_count": 10,
      "metadata": {
        "colab": {
          "base_uri": "https://localhost:8080/"
        },
        "id": "sB07Uz_gODnX",
        "outputId": "8f84ae24-1c67-49b3-ad51-6831a61e0ab9"
      },
      "outputs": [
        {
          "output_type": "stream",
          "name": "stderr",
          "text": [
            "/usr/local/lib/python3.7/dist-packages/ipykernel_launcher.py:1: SettingWithCopyWarning: \n",
            "A value is trying to be set on a copy of a slice from a DataFrame.\n",
            "Try using .loc[row_indexer,col_indexer] = value instead\n",
            "\n",
            "See the caveats in the documentation: https://pandas.pydata.org/pandas-docs/stable/user_guide/indexing.html#returning-a-view-versus-a-copy\n",
            "  \"\"\"Entry point for launching an IPython kernel.\n"
          ]
        }
      ],
      "source": [
        "data_p[\"id\"] = data_p[\"id\"].astype(str) + \"-\" + data_p[\"kind\"]"
      ]
    },
    {
      "cell_type": "code",
      "execution_count": 11,
      "metadata": {
        "id": "K8QQnK3yUcno"
      },
      "outputs": [],
      "source": [
        "data_p=data_p[[\"id\",\"therapy\",\"successful\"]]"
      ]
    },
    {
      "cell_type": "code",
      "execution_count": 12,
      "metadata": {
        "id": "RHq4j3iTUcnq"
      },
      "outputs": [],
      "source": [
        "def ids_encoder(data):\n",
        "    users = sorted(data['id'].unique())\n",
        "    items = sorted(data['therapy'].unique())\n",
        "\n",
        "    # create users and items encoders\n",
        "    uencoder = LabelEncoder()\n",
        "    iencoder = LabelEncoder()\n",
        "\n",
        "    # fit users and items ids to the corresponding encoder\n",
        "    uencoder.fit(users)\n",
        "    iencoder.fit(items)\n",
        "\n",
        "    # encode userids and itemids\n",
        "    data.id = uencoder.transform(data.id.tolist())\n",
        "    data.therapy = iencoder.transform(data.therapy.tolist())\n",
        "\n",
        "    return data, uencoder, iencoder"
      ]
    },
    {
      "cell_type": "code",
      "execution_count": null,
      "metadata": {
        "id": "PQkyJ4ebUcnr"
      },
      "outputs": [],
      "source": [
        "data_p, uencoder, iencoder= ids_encoder(data_p)"
      ]
    },
    {
      "cell_type": "code",
      "execution_count": null,
      "metadata": {
        "id": "khAQyRLBC9q8"
      },
      "outputs": [],
      "source": [
        "data_p=data_p.astype(np.uint8)"
      ]
    },
    {
      "cell_type": "code",
      "execution_count": null,
      "metadata": {
        "id": "8LKt80pbUcnt",
        "outputId": "49aad260-b9e1-48b2-9065-924c94638071"
      },
      "outputs": [
        {
          "name": "stdout",
          "output_type": "stream",
          "text": [
            "<class 'pandas.core.frame.DataFrame'>\n",
            "RangeIndex: 1027030 entries, 0 to 1027029\n",
            "Data columns (total 3 columns):\n",
            " #   Column      Non-Null Count    Dtype\n",
            "---  ------      --------------    -----\n",
            " 0   id          1027030 non-null  uint8\n",
            " 1   therapy     1027030 non-null  uint8\n",
            " 2   successful  1027030 non-null  uint8\n",
            "dtypes: uint8(3)\n",
            "memory usage: 2.9 MB\n"
          ]
        }
      ],
      "source": [
        "data_p.info()"
      ]
    },
    {
      "cell_type": "code",
      "execution_count": null,
      "metadata": {
        "id": "rFwcjjImth8r"
      },
      "outputs": [],
      "source": [
        "# Rating scale to be used as part of the process of using Surprise to predict ratings (\"Scores\" in this case)\n",
        "reader = Reader(rating_scale=(0, 100))\n",
        "\n",
        "# Convert the pandas dataframe into a Surprise dataset using the load_from_df() method\n",
        "# The 'UserId', 'ProductId', and ratings ('Score' in this case) are passed in the exact order\n",
        "data = Dataset.load_from_df(data_p[['id', 'therapy', 'successful']], reader)"
      ]
    },
    {
      "cell_type": "code",
      "execution_count": null,
      "metadata": {
        "colab": {
          "base_uri": "https://localhost:8080/"
        },
        "id": "fNORvVS_wTSe",
        "outputId": "541d58a4-c5d3-44c2-f78e-c6cb3455f087"
      },
      "outputs": [
        {
          "data": {
            "text/plain": [
              "<surprise.dataset.DatasetAutoFolds at 0x1d9991a9a00>"
            ]
          },
          "execution_count": 30,
          "metadata": {},
          "output_type": "execute_result"
        }
      ],
      "source": [
        "data"
      ]
    },
    {
      "cell_type": "code",
      "execution_count": null,
      "metadata": {
        "id": "Awx2C0r5vNqo"
      },
      "outputs": [],
      "source": [
        "from surprise.model_selection import train_test_split\n",
        "from surprise import accuracy\n",
        "\n",
        "# 'user_based' in the similarity option (sim_options) is set to True in order to compute a User based collaborative filtering.\n",
        "sim_options= {'name':'cosine', \n",
        "              'user_based':True\n",
        "             } \n",
        "\n",
        "algo = KNNBaseline(sim_options=sim_options)"
      ]
    },
    {
      "cell_type": "code",
      "execution_count": null,
      "metadata": {
        "id": "HOR7zkbsUcny",
        "outputId": "26288e65-a2e3-4f86-a712-f9970c4c0ab5"
      },
      "outputs": [
        {
          "name": "stdout",
          "output_type": "stream",
          "text": [
            "Estimating biases using als...\n",
            "Computing the cosine similarity matrix...\n",
            "Done computing similarity matrix.\n",
            "<surprise.prediction_algorithms.knns.KNNBaseline object at 0x000001D99E8C9190>\n",
            "RMSE: 34.0307\n"
          ]
        },
        {
          "data": {
            "text/plain": [
              "34.03066775390996"
            ]
          },
          "execution_count": 34,
          "metadata": {},
          "output_type": "execute_result"
        }
      ],
      "source": [
        "trainset, testset = train_test_split(data, test_size=0.04)\n",
        "# Fit algorithm to the training set\n",
        "algo.fit(trainset)\n",
        "  # Predict ratings for the test set\n",
        "test_set_predictions=algo.test(testset)\n",
        "# Calculate the root mean squared error(RMSE)\n",
        "print(algo)\n",
        "accuracy.rmse(test_set_predictions)"
      ]
    },
    {
      "cell_type": "code",
      "execution_count": null,
      "metadata": {
        "colab": {
          "base_uri": "https://localhost:8080/"
        },
        "id": "P_jBjVtgx_wI",
        "outputId": "eec30bc6-d0bc-4106-952e-5d2fe73ede4a"
      },
      "outputs": [
        {
          "name": "stdout",
          "output_type": "stream",
          "text": [
            "Computing the cosine similarity matrix...\n",
            "Done computing similarity matrix.\n",
            "<surprise.prediction_algorithms.knns.KNNWithMeans object at 0x000001D9A0A58F70>\n",
            "RMSE: 34.0050\n"
          ]
        },
        {
          "data": {
            "text/plain": [
              "34.00498747929172"
            ]
          },
          "execution_count": 32,
          "metadata": {},
          "output_type": "execute_result"
        }
      ],
      "source": [
        "trainset, testset = train_test_split(data, test_size=0.04)\n",
        "# Fit algorithm to the training set\n",
        "algo.fit(trainset)\n",
        "  # Predict ratings for the test set\n",
        "test_set_predictions=algo.test(testset)\n",
        "# Calculate the root mean squared error(RMSE)\n",
        "print(algo)\n",
        "accuracy.rmse(test_set_predictions)"
      ]
    },
    {
      "cell_type": "code",
      "execution_count": null,
      "metadata": {
        "id": "_k3CMLvXuyLI"
      },
      "outputs": [],
      "source": [
        ""
      ]
    },
    {
      "cell_type": "markdown",
      "metadata": {
        "id": "62o4ky8qUcn0"
      },
      "source": [
        "## Experiment 2 patients  selected who had at least one trial for same condition and whose most recent trial had ended with a higher succesful rate"
      ]
    },
    {
      "cell_type": "code",
      "execution_count": 13,
      "metadata": {
        "id": "NkuLrSMWUcn2"
      },
      "outputs": [],
      "source": [
        "data_exp=data_p[\"id\"]+\",\"+data_p[\"therapy\"]\n",
        "data_exp=pd.DataFrame(data_exp)\n",
        "data_exp[\"successful\"]=data_p[\"successful\"]\n",
        "data_exp.columns=[\"id\",\"successful\"]\n",
        "data_exp_1=pd.DataFrame(data_exp.groupby(\"id\").successful.max()).reset_index()\n",
        "dt=data_exp_1[\"id\"].str.split(\",\", n = 1, expand = True)\n",
        "dt[\"successful\"]=data_exp_1[\"successful\"]\n",
        "dt.columns=[\"id\",\"therapy\",\"successful\"]"
      ]
    },
    {
      "cell_type": "code",
      "execution_count": 14,
      "metadata": {
        "id": "H_RFGSj7ZMs-"
      },
      "outputs": [],
      "source": [
        "dt, uencoder, iencoder= ids_encoder(dt)"
      ]
    },
    {
      "cell_type": "code",
      "execution_count": 15,
      "metadata": {
        "id": "ELtmiNATUcn5"
      },
      "outputs": [],
      "source": [
        "dt=dt.astype(np.uint8)"
      ]
    },
    {
      "cell_type": "code",
      "execution_count": 16,
      "metadata": {
        "id": "OKroLLH-Ucn6"
      },
      "outputs": [],
      "source": [
        "#data=dt.sample(50000)"
      ]
    },
    {
      "cell_type": "code",
      "execution_count": 17,
      "metadata": {
        "id": "xQ0rhgpaUcn6"
      },
      "outputs": [],
      "source": [
        "# Rating scale to be used as part of the process of using Surprise to predict ratings (\"Scores\" in this case)\n",
        "reader = Reader(rating_scale=(0, 100))\n",
        "\n",
        "# Convert the pandas dataframe into a Surprise dataset using the load_from_df() method\n",
        "# The 'UserId', 'ProductId', and ratings ('Score' in this case) are passed in the exact order\n",
        "data = Dataset.load_from_df(dt[['id', 'therapy', 'successful']], reader)"
      ]
    },
    {
      "cell_type": "code",
      "execution_count": 18,
      "metadata": {
        "id": "ZFA7G4efUcn7"
      },
      "outputs": [],
      "source": [
        "from surprise.model_selection import train_test_split\n",
        "from surprise import accuracy\n",
        "\n",
        "# 'user_based' in the similarity option (sim_options) is set to True in order to compute a User based collaborative filtering.\n",
        "sim_options= {'name':'cosine', \n",
        "              'user_based':True\n",
        "             } "
      ]
    },
    {
      "cell_type": "code",
      "execution_count": 19,
      "metadata": {
        "colab": {
          "base_uri": "https://localhost:8080/"
        },
        "id": "yILIj1CwUcn8",
        "outputId": "788e5920-4e5d-4565-ffe3-b1b274d0e6bd"
      },
      "outputs": [
        {
          "output_type": "stream",
          "name": "stdout",
          "text": [
            "Estimating biases using als...\n",
            "Computing the cosine similarity matrix...\n",
            "Done computing similarity matrix.\n",
            "<surprise.prediction_algorithms.knns.KNNBaseline object at 0x7f8959a368d0>\n",
            "RMSE: 34.0650\n"
          ]
        },
        {
          "output_type": "execute_result",
          "data": {
            "text/plain": [
              "34.06496052712595"
            ]
          },
          "metadata": {},
          "execution_count": 19
        }
      ],
      "source": [
        "algo = KNNBaseline(sim_options=sim_options)\n",
        "trainset, testset = train_test_split(data, test_size=0.20)\n",
        "# Fit algorithm to the training set\n",
        "algo.fit(trainset)\n",
        "  # Predict ratings for the test set\n",
        "test_set_predictions=algo.test(testset)\n",
        "# Calculate the root mean squared error(RMSE)\n",
        "print(algo)\n",
        "accuracy.rmse(test_set_predictions)"
      ]
    },
    {
      "cell_type": "code",
      "execution_count": 20,
      "metadata": {
        "colab": {
          "base_uri": "https://localhost:8080/"
        },
        "id": "gBzD4RfQUcn8",
        "outputId": "45bb86b3-73ca-43de-ae05-533c2610f564"
      },
      "outputs": [
        {
          "output_type": "stream",
          "name": "stdout",
          "text": [
            "Computing the cosine similarity matrix...\n",
            "Done computing similarity matrix.\n",
            "<surprise.prediction_algorithms.knns.KNNWithMeans object at 0x7f89541c5b50>\n",
            "RMSE: 34.0497\n"
          ]
        },
        {
          "output_type": "execute_result",
          "data": {
            "text/plain": [
              "34.04968583148692"
            ]
          },
          "metadata": {},
          "execution_count": 20
        }
      ],
      "source": [
        "algo = KNNWithMeans(sim_options=sim_options)\n",
        "trainset, testset = train_test_split(data, test_size=0.20)\n",
        "# Fit algorithm to the training set\n",
        "algo.fit(trainset)\n",
        "  # Predict ratings for the test set\n",
        "test_set_predictions=algo.test(testset)\n",
        "# Calculate the root mean squared error(RMSE)\n",
        "print(algo)\n",
        "accuracy.rmse(test_set_predictions)"
      ]
    },
    {
      "cell_type": "code",
      "execution_count": null,
      "metadata": {
        "id": "M3BF43iNUcn9"
      },
      "outputs": [],
      "source": [
        ""
      ]
    }
  ],
  "metadata": {
    "colab": {
      "name": "Data_Mining_Project_user_based_baseline_models.ipynb",
      "provenance": []
    },
    "kernelspec": {
      "display_name": "Python 3",
      "language": "python",
      "name": "python3"
    },
    "language_info": {
      "codemirror_mode": {
        "name": "ipython",
        "version": 3
      },
      "file_extension": ".py",
      "mimetype": "text/x-python",
      "name": "python",
      "nbconvert_exporter": "python",
      "pygments_lexer": "ipython3",
      "version": "3.8.8"
    }
  },
  "nbformat": 4,
  "nbformat_minor": 0
}